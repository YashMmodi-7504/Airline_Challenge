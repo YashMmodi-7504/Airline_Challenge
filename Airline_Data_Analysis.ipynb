{
  "nbformat": 4,
  "nbformat_minor": 0,
  "metadata": {
    "colab": {
      "provenance": []
    },
    "kernelspec": {
      "name": "python3",
      "display_name": "Python 3"
    },
    "language_info": {
      "name": "python"
    }
  },
  "cells": [
    {
      "cell_type": "code",
      "execution_count": 6,
      "metadata": {
        "id": "9b50ZCtxYFtj"
      },
      "outputs": [],
      "source": [
        "#Airline Data Challenge"
      ]
    },
    {
      "cell_type": "code",
      "source": [
        "# 📌 Step 1: Import Libraries\n",
        "# Import necessary libraries for data handling, visualization, and numerical operations\n",
        "import pandas as pd\n",
        "import numpy as np\n",
        "import matplotlib.pyplot as plt\n",
        "import seaborn as sns\n",
        "from google.colab import files\n",
        "\n"
      ],
      "metadata": {
        "id": "CKr34M-IZS_9"
      },
      "execution_count": 7,
      "outputs": []
    },
    {
      "cell_type": "code",
      "source": [
        "# 📌 Step 2: Load Datasets with Optimized Memory Usage\n",
        "\n",
        "# Metadata for created fields:\n",
        "# - DISTANCE: Flight distance in miles\n",
        "# - OCCUPANCY_RATE: Percentage of seats occupied per flight\n",
        "# - ITIN_FARE: Ticket fare per passenger\n",
        "# - total_cost: Total cost per round trip, including fuel, depreciation, crew, and airport fees\n",
        "# - total_revenue: Revenue from ticket sales and baggage fees\n",
        "# - profit: Total revenue - total cost\n",
        "# - break_even_flights: Number of round-trip flights required to recover investment\n",
        "\n",
        "\n",
        "# Load datasets from local storage\n",
        "flights_df = pd.read_csv(\"Flights.csv\", usecols=[\"ORIGIN\", \"DESTINATION\", \"DISTANCE\", \"OCCUPANCY_RATE\"], dtype=str, low_memory=True)\n",
        "tickets_df = pd.read_csv(\"Tickets.csv\", usecols=[\"ORIGIN\", \"DESTINATION\", \"ITIN_FARE\"], dtype=str, low_memory=True)\n",
        "airports_df = pd.read_csv(\"Airport_Codes.csv\", usecols=[\"IATA_CODE\", \"NAME\"], dtype={\"IATA_CODE\": \"category\", \"NAME\": \"category\"}, low_memory=True)\n",
        "\n",
        "# Convert columns to numeric safely\n",
        "def clean_numeric_column(df, column_name):\n",
        "    df = df.copy()\n",
        "    df[column_name] = pd.to_numeric(df[column_name], errors='coerce')\n",
        "    df[column_name] = df[column_name].fillna(df[column_name].median())\n",
        "    return df\n",
        "\n",
        "flights_df = clean_numeric_column(flights_df, \"DISTANCE\")\n",
        "flights_df = clean_numeric_column(flights_df, \"OCCUPANCY_RATE\")\n",
        "tickets_df = clean_numeric_column(tickets_df, \"ITIN_FARE\")\n",
        "\n",
        "# Print datasets after processing\n",
        "print(\"Processed Flights Dataset:\")\n",
        "print(flights_df.head())\n",
        "print(\"\\nProcessed Tickets Dataset:\")\n",
        "print(tickets_df.head())\n",
        "print(\"\\nProcessed Airports Dataset:\")\n",
        "print(airports_df.head())\n",
        "\n"
      ],
      "metadata": {
        "colab": {
          "base_uri": "https://localhost:8080/"
        },
        "id": "FkCAqwbHZicG",
        "outputId": "6c80d8c8-6011-491b-e0d5-6892f4951801"
      },
      "execution_count": 8,
      "outputs": [
        {
          "output_type": "stream",
          "name": "stdout",
          "text": [
            "Processed Flights Dataset:\n",
            "  ORIGIN DESTINATION  DISTANCE  OCCUPANCY_RATE\n",
            "0    RSW         CLE    1025.0            0.97\n",
            "1    RSW         CMH     930.0            0.55\n",
            "2    RSW         CMH     930.0            0.91\n",
            "3    RSW         CMH     930.0            0.67\n",
            "4    RSW         DAL    1005.0            0.62\n",
            "\n",
            "Processed Tickets Dataset:\n",
            "  ORIGIN  ITIN_FARE DESTINATION\n",
            "0    ABI      736.0         DAB\n",
            "1    ABI      570.0         COS\n",
            "2    ABI      564.0         MCO\n",
            "3    ABI      345.0         LGA\n",
            "4    ABI      309.0         MGM\n",
            "\n",
            "Processed Airports Dataset:\n",
            "                                 NAME IATA_CODE\n",
            "0                   Total Rf Heliport       NaN\n",
            "1                Aero B Ranch Airport       NaN\n",
            "2                        Lowell Field       NaN\n",
            "3                        Epps Airpark       NaN\n",
            "4  Newport Hospital & Clinic Heliport       NaN\n"
          ]
        }
      ]
    },
    {
      "cell_type": "code",
      "source": [
        "# 📌 Step 3: Data Cleaning\n",
        "flights_df.drop_duplicates(inplace=True)\n",
        "tickets_df.drop_duplicates(inplace=True)\n",
        "airports_df.drop_duplicates(inplace=True)"
      ],
      "metadata": {
        "id": "FiHxRC_RdIf0"
      },
      "execution_count": 9,
      "outputs": []
    },
    {
      "cell_type": "code",
      "source": [
        "# 📌 Step 4: Data Preprocessing & Merging (Optimized with Indexing)\n",
        "flights_df = flights_df.merge(airports_df, left_on='ORIGIN', right_on='IATA_CODE', how='inner')\n",
        "merged_df = flights_df.merge(tickets_df, on=['ORIGIN', 'DESTINATION'], how='inner', sort=False)"
      ],
      "metadata": {
        "id": "pIlovD_0dXA3"
      },
      "execution_count": 10,
      "outputs": []
    },
    {
      "cell_type": "code",
      "source": [
        "# 📌 Step 5: Identify Busiest Routes (Optimized)\n",
        "busiest_routes = merged_df.groupby(['ORIGIN', 'DESTINATION'], as_index=False).size().nlargest(10, 'size')\n",
        "busiest_routes.columns = ['ORIGIN', 'DESTINATION', 'flight_count']\n",
        "print(\"Top 10 Busiest Routes:\")\n",
        "print(busiest_routes)"
      ],
      "metadata": {
        "colab": {
          "base_uri": "https://localhost:8080/"
        },
        "id": "uNJ1x504iEhS",
        "outputId": "08c8b70e-a842-4134-9c9d-fcf72e4b8f47"
      },
      "execution_count": 11,
      "outputs": [
        {
          "output_type": "stream",
          "name": "stdout",
          "text": [
            "Top 10 Busiest Routes:\n",
            "     ORIGIN DESTINATION  flight_count\n",
            "2722    JFK         LAX         63048\n",
            "2750    JFK         SFO         58149\n",
            "2947    LAX         JFK         56516\n",
            "324     AUS         SFO         55664\n",
            "1931    EWR         SFO         52469\n",
            "302     AUS         LAS         51972\n",
            "192     ATL         LAX         50381\n",
            "1622    DFW         SFO         47472\n",
            "303     AUS         LAX         45582\n",
            "5223    SFO         EWR         45014\n"
          ]
        }
      ]
    },
    {
      "cell_type": "code",
      "source": [
        "# 📌 Step 6: Calculate Route Profitability\n",
        "cost_per_mile = 9.18  # Fuel + Depreciation\n",
        "merged_df['total_cost'] = cost_per_mile * merged_df['DISTANCE']\n",
        "merged_df['total_revenue'] = merged_df['OCCUPANCY_RATE'] * merged_df['ITIN_FARE'] * 2\n",
        "merged_df['profit'] = merged_df['total_revenue'] - merged_df['total_cost']\n",
        "\n",
        "profitable_routes = merged_df.groupby(['ORIGIN', 'DESTINATION'], as_index=False)[['profit', 'total_revenue', 'total_cost']].sum().nlargest(10, 'profit')\n",
        "\n",
        "print(\"Top 10 Most Profitable Routes:\\n\", profitable_routes)\n"
      ],
      "metadata": {
        "colab": {
          "base_uri": "https://localhost:8080/"
        },
        "id": "6p3tAij9iOYc",
        "outputId": "4f9bafea-bfbb-4896-a9eb-e58653d93a48"
      },
      "execution_count": 12,
      "outputs": [
        {
          "output_type": "stream",
          "name": "stdout",
          "text": [
            "Top 10 Most Profitable Routes:\n",
            "      ORIGIN DESTINATION      profit  total_revenue  total_cost\n",
            "5466    SLC         TWF  5026515.68     6118935.68  1092420.00\n",
            "468     BJI         MSP  4130347.86     6148983.96  2018636.10\n",
            "2186    GSP         CLT   757520.30      904170.80   146650.50\n",
            "1029    CLT         TRI    94559.40      782784.00   688224.60\n",
            "2066    FLO         CLT    90436.96      219489.40   129052.44\n",
            "4286    PHL         AVP    37307.66      172877.90   135570.24\n",
            "1727    DTW         LAN    15989.20      257147.80   241158.60\n",
            "4281    PHL         ABE    10004.60       75641.60    65637.00\n",
            "3320    MDT         IAD     -968.76       55121.04    56089.80\n",
            "5844    WRG         PSG    -3284.58       58184.70    61469.28\n"
          ]
        }
      ]
    },
    {
      "cell_type": "code",
      "source": [
        "# 📌 Step 7: Recommend 5 Routes & Break-even Analysis\n",
        "recommended_routes = profitable_routes.head(5).copy()  # Select top 5 profitable routes\n",
        "\n",
        "print(\"\\nRecommended Routes Before Break-even Calculation:\")\n",
        "print(recommended_routes)\n",
        "\n",
        "recommended_routes['break_even_flights'] = np.ceil(90000000 / recommended_routes['profit'])\n",
        "\n",
        "print(\"\\nRecommended Routes After Break-even Calculation:\")\n",
        "print(recommended_routes)\n"
      ],
      "metadata": {
        "colab": {
          "base_uri": "https://localhost:8080/"
        },
        "id": "yeCICQdFiToJ",
        "outputId": "7c63ca38-1681-43ad-d856-b82cb3dbac73"
      },
      "execution_count": 15,
      "outputs": [
        {
          "output_type": "stream",
          "name": "stdout",
          "text": [
            "\n",
            "Recommended Routes Before Break-even Calculation:\n",
            "     ORIGIN DESTINATION      profit  total_revenue  total_cost\n",
            "5466    SLC         TWF  5026515.68     6118935.68  1092420.00\n",
            "468     BJI         MSP  4130347.86     6148983.96  2018636.10\n",
            "2186    GSP         CLT   757520.30      904170.80   146650.50\n",
            "1029    CLT         TRI    94559.40      782784.00   688224.60\n",
            "2066    FLO         CLT    90436.96      219489.40   129052.44\n",
            "\n",
            "Recommended Routes After Break-even Calculation:\n",
            "     ORIGIN DESTINATION      profit  total_revenue  total_cost  \\\n",
            "5466    SLC         TWF  5026515.68     6118935.68  1092420.00   \n",
            "468     BJI         MSP  4130347.86     6148983.96  2018636.10   \n",
            "2186    GSP         CLT   757520.30      904170.80   146650.50   \n",
            "1029    CLT         TRI    94559.40      782784.00   688224.60   \n",
            "2066    FLO         CLT    90436.96      219489.40   129052.44   \n",
            "\n",
            "      break_even_flights  \n",
            "5466                18.0  \n",
            "468                 22.0  \n",
            "2186               119.0  \n",
            "1029               952.0  \n",
            "2066               996.0  \n"
          ]
        }
      ]
    },
    {
      "cell_type": "code",
      "source": [
        "# 📌 Step 8: KPI Tracking\n",
        "kpis = {\n",
        "    \"On-time performance (%)\": \"Percentage of flights on time\",\n",
        "    \"Load factor (OCCUPANCY_RATE)\": \"Average seat occupancy per flight\",\n",
        "    \"Route profitability per flight\": \"Average profit per round trip\",\n",
        "    \"Customer complaints\": \"Delays/luggage issues\",\n",
        "    \"Average delay per flight\": \"Minutes of delay\"\n",
        "}\n",
        "print(\"Key Performance Indicators (KPIs):\")\n",
        "for k, v in kpis.items():\n",
        "    print(f\"{k}: {v}\")"
      ],
      "metadata": {
        "colab": {
          "base_uri": "https://localhost:8080/"
        },
        "id": "qdY4K5Mdie1g",
        "outputId": "e0de7c28-7eb2-4962-f241-153e7966d521"
      },
      "execution_count": 16,
      "outputs": [
        {
          "output_type": "stream",
          "name": "stdout",
          "text": [
            "Key Performance Indicators (KPIs):\n",
            "On-time performance (%): Percentage of flights on time\n",
            "Load factor (OCCUPANCY_RATE): Average seat occupancy per flight\n",
            "Route profitability per flight: Average profit per round trip\n",
            "Customer complaints: Delays/luggage issues\n",
            "Average delay per flight: Minutes of delay\n"
          ]
        }
      ]
    },
    {
      "cell_type": "code",
      "source": [
        "# 📌 Step 9: Data Visualization (Optimized for Speed)\n",
        "plt.figure(figsize=(10,6))\n",
        "sns.barplot(x='ORIGIN', y='profit', data=recommended_routes)\n",
        "plt.title(\"Top 5 Recommended Routes - Profitability\")\n",
        "plt.xticks(rotation=45)\n",
        "plt.show()"
      ],
      "metadata": {
        "colab": {
          "base_uri": "https://localhost:8080/",
          "height": 580
        },
        "id": "w6darzYqjuaX",
        "outputId": "5f008429-c809-4263-9f56-26723419b4f3"
      },
      "execution_count": 17,
      "outputs": [
        {
          "output_type": "display_data",
          "data": {
            "text/plain": [
              "<Figure size 1000x600 with 1 Axes>"
            ],
            "image/png": "[encoded data removed]"
          },
          "metadata": {}
        }
      ]
    },
    {
      "cell_type": "code",
      "source": [
        "# 📌 Step 10: Advanced Insights"
      ],
      "metadata": {
        "id": "DdBu-GY9lf0K"
      },
      "execution_count": 18,
      "outputs": []
    },
    {
      "cell_type": "code",
      "source": [
        "# 📌 Step 10.1: Revenue Per Mile Analysis\n",
        "merged_df['revenue_per_mile'] = merged_df['total_revenue'] / merged_df['DISTANCE']\n",
        "revenue_per_mile_analysis = merged_df.groupby(['ORIGIN', 'DESTINATION'])['revenue_per_mile'].mean().reset_index()\n",
        "print(\"Revenue Per Mile Analysis:\")\n",
        "print(revenue_per_mile_analysis.head())"
      ],
      "metadata": {
        "colab": {
          "base_uri": "https://localhost:8080/"
        },
        "id": "sdp95zqcnJ9h",
        "outputId": "3ae0b891-ae62-439c-ff67-d5352d6141de"
      },
      "execution_count": 19,
      "outputs": [
        {
          "output_type": "stream",
          "name": "stdout",
          "text": [
            "Revenue Per Mile Analysis:\n",
            "  ORIGIN DESTINATION  revenue_per_mile\n",
            "0    ABE         ATL          0.871529\n",
            "1    ABE         CLT          1.295614\n",
            "2    ABE         DTW          1.276378\n",
            "3    ABE         FLL          0.264468\n",
            "4    ABE         ORD          1.010266\n"
          ]
        }
      ]
    },
    {
      "cell_type": "code",
      "source": [
        "# 📌 Step 10.2: Cost Efficiency Analysis\n",
        "merged_df['cost_per_passenger_mile'] = merged_df['total_cost'] / (merged_df['DISTANCE'] * merged_df['OCCUPANCY_RATE'])\n",
        "cost_efficiency_analysis = merged_df.groupby(['ORIGIN', 'DESTINATION'])['cost_per_passenger_mile'].mean().reset_index()\n",
        "print(\"Cost Efficiency Analysis:\")\n",
        "print(cost_efficiency_analysis.head())"
      ],
      "metadata": {
        "colab": {
          "base_uri": "https://localhost:8080/"
        },
        "id": "hTlQpxVxnTN_",
        "outputId": "b5b3a3b8-1e54-40b1-b282-e4784274544a"
      },
      "execution_count": 20,
      "outputs": [
        {
          "output_type": "stream",
          "name": "stdout",
          "text": [
            "Cost Efficiency Analysis:\n",
            "  ORIGIN DESTINATION  cost_per_passenger_mile\n",
            "0    ABE         ATL                16.153740\n",
            "1    ABE         CLT                15.588342\n",
            "2    ABE         DTW                15.587522\n",
            "3    ABE         FLL                16.929516\n",
            "4    ABE         ORD                15.723416\n"
          ]
        }
      ]
    },
    {
      "cell_type": "code",
      "source": [
        "# 📌 Step 10.3: Top Origin Airports by Revenue\n",
        "top_origin_revenue = merged_df.groupby('ORIGIN')['total_revenue'].sum().reset_index().nlargest(10, 'total_revenue')\n",
        "print(\"Top Origin Airports by Revenue:\")\n",
        "print(top_origin_revenue)"
      ],
      "metadata": {
        "colab": {
          "base_uri": "https://localhost:8080/"
        },
        "id": "tvN3HCMXnapL",
        "outputId": "72ccd621-ab76-4a63-9817-3e03a67eef1d"
      },
      "execution_count": 21,
      "outputs": [
        {
          "output_type": "stream",
          "name": "stdout",
          "text": [
            "Top Origin Airports by Revenue:\n",
            "    ORIGIN  total_revenue\n",
            "246    ORD   9.150819e+08\n",
            "186    LAX   8.430130e+08\n",
            "20     ATL   7.799303e+08\n",
            "112    EWR   7.773187e+08\n",
            "90     DFW   7.444205e+08\n",
            "308    SFO   7.219748e+08\n",
            "89     DEN   6.432164e+08\n",
            "175    JFK   6.116630e+08\n",
            "233    MSP   5.878933e+08\n",
            "306    SEA   5.706776e+08\n"
          ]
        }
      ]
    },
    {
      "cell_type": "code",
      "source": [
        "# 📌 Step 10.4: Top Destination Airports by Profit\n",
        "top_destination_profit = merged_df.groupby('DESTINATION')['profit'].sum().reset_index().nlargest(10, 'profit')\n",
        "print(\"Top Destination Airports by Profit:\")\n",
        "print(top_destination_profit)\n"
      ],
      "metadata": {
        "colab": {
          "base_uri": "https://localhost:8080/"
        },
        "id": "oNekacidngTh",
        "outputId": "606a4a26-a9e3-4713-b142-6297f53b5374"
      },
      "execution_count": 22,
      "outputs": [
        {
          "output_type": "stream",
          "name": "stdout",
          "text": [
            "Top Destination Airports by Profit:\n",
            "    DESTINATION      profit\n",
            "343         TWF  5026515.68\n",
            "198         LNY   -30867.96\n",
            "80          CSG   -37452.58\n",
            "220         MKK   -43929.36\n",
            "354         YAK   -77981.04\n",
            "165         IPT   -85673.32\n",
            "5           ACT  -101143.76\n",
            "174         JHM  -105411.00\n",
            "128         GGG  -127288.38\n",
            "344         TXK  -142968.04\n"
          ]
        }
      ]
    },
    {
      "cell_type": "code",
      "source": [
        "# 📌 Step 10.5: Additional Data Visualization\n",
        "plt.figure(figsize=(10,6))\n",
        "sns.barplot(x='ORIGIN', y='total_revenue', data=top_origin_revenue)\n",
        "plt.title(\"Top 10 Origin Airports by Revenue\")\n",
        "plt.xticks(rotation=45)\n",
        "plt.show()\n",
        "\n",
        "plt.figure(figsize=(10,6))\n",
        "sns.barplot(x='DESTINATION', y='profit', data=top_destination_profit)\n",
        "plt.title(\"Top 10 Destination Airports by Profit\")\n",
        "plt.xticks(rotation=45)\n",
        "plt.show()"
      ],
      "metadata": {
        "colab": {
          "base_uri": "https://localhost:8080/",
          "height": 1000
        },
        "id": "5BCWsCKjnoLe",
        "outputId": "af1fcd4b-e9cb-4d9c-91a3-9cbca6bdf6e5"
      },
      "execution_count": 23,
      "outputs": [
        {
          "output_type": "display_data",
          "data": {
            "text/plain": [
              "<Figure size 1000x600 with 1 Axes>"
            ],
            "image/png": "[encoded data removed]"
          },
          "metadata": {}
        },
        {
          "output_type": "display_data",
          "data": {
            "text/plain": [
              "<Figure size 1000x600 with 1 Axes>"
            ],
            "image/png": "[encoded data removed]"
          },
          "metadata": {}
        }
      ]
    },
    {
      "cell_type": "code",
      "source": [
        "# 📌 Step 11: Conclusion & Next Steps\n",
        "recommended_routes.to_csv(\"recommended_routes.csv\", index=False)\n",
        "print(\"Analysis Complete! Data saved to 'recommended_routes.csv'.\")\n"
      ],
      "metadata": {
        "colab": {
          "base_uri": "https://localhost:8080/"
        },
        "id": "1JeDA99Wn5Nr",
        "outputId": "18d2909c-3031-4106-de87-f661d1d8860b"
      },
      "execution_count": 24,
      "outputs": [
        {
          "output_type": "stream",
          "name": "stdout",
          "text": [
            "Analysis Complete! Data saved to 'recommended_routes.csv'.\n"
          ]
        }
      ]
    },
    {
      "cell_type": "code",
      "source": [],
      "metadata": {
        "id": "WXX3KHWQui2X"
      },
      "execution_count": null,
      "outputs": []
    }
  ]
}